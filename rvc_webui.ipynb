{
 "cells": [
  {
   "cell_type": "markdown",
   "metadata": {},
   "source": [
    "<a href=\"https://colab.research.google.com/github/hugochou/colab_script/blob/main/rvc_webui.ipynb\" target=\"_parent\"><img src=\"https://colab.research.google.com/assets/colab-badge.svg\" alt=\"Open In Colab\"/></a>"
   ]
  },
  {
   "cell_type": "markdown",
   "metadata": {},
   "source": [
    "环境配置 environment"
   ]
  },
  {
   "cell_type": "code",
   "execution_count": null,
   "metadata": {},
   "outputs": [],
   "source": [
    "!pip install -q condacolab\n",
    "# Setting up condacolab and installing packages\n",
    "import condacolab\n",
    "condacolab.install_from_url(\"https://repo.anaconda.com/miniconda/Miniconda3-py39_23.11.0-2-Linux-x86_64.sh\")\n",
    "%cd -q /content\n",
    "!git clone -b main --depth 1 https://github.com/RVC-Project/Retrieval-based-Voice-Conversion-WebUI\n",
    "!conda install -y -q -c pytorch -c nvidia cudatoolkit\n",
    "%cd -q /content/Retrieval-based-Voice-Conversion-WebUI\n",
    "!conda install -y -q -c conda-forge gcc gxx ffmpeg cmake -c pytorch -c nvidia\n",
    "# !/usr/local/bin/pip install torch torchvision torchaudio\n",
    "!/usr/local/bin/pip install -r requirements.txt"
   ]
  },
  {
   "cell_type": "code",
   "execution_count": null,
   "metadata": {},
   "outputs": [],
   "source": [
    "# @title Download pretrained models 下载预训练模型\n",
    "!mkdir -p /content/Retrieval-based-Voice-Conversion-WebUI/assets\n",
    "#!mkdir -p /content/Retrieval-based-Voice-Conversion-WebUI/assets/pretrained\n",
    "#!mkdir -p /content/Retrieval-based-Voice-Conversion-WebUI/assets/pretrained_v2\n",
    "#!mkdir -p /content/Retrieval-based-Voice-Conversion-WebUI/assets/uvr5_weights\n",
    "#!mkdir -p /content/Retrieval-based-Voice-Conversion-WebUI/assets/uvr5_weights/onnx_dereverb_By_FoxJoy\n",
    "!mkdir -p /content/Retrieval-based-Voice-Conversion-WebUI/assets/rmvpe\n",
    "!mkdir -p /content/Retrieval-based-Voice-Conversion-WebUI/assets/hubert\n",
    "%cd /content/Retrieval-based-Voice-Conversion-WebUI/assets\n",
    "!git clone https://huggingface.co/lj1995/VoiceConversionWebUI/resolve/main/pretrained\n",
    "!git clone https://huggingface.co/lj1995/VoiceConversionWebUI/resolve/main/pretrained_v2\n",
    "!git clone https://huggingface.co/lj1995/VoiceConversionWebUI/resolve/main/uvr5_weights\n",
    "%cd /content/Retrieval-based-Voice-Conversion-WebUI/assets/rmvpe\n",
    "!git clone https://huggingface.co/lj1995/VoiceConversionWebUI/resolve/main/rmvpe.pt\n",
    "%cd /content/Retrieval-based-Voice-Conversion-WebUI/assets/hubert\n",
    "!git clone https://huggingface.co/lj1995/VoiceConversionWebUI/resolve/main/hubert_base.pt"
   ]
  },
  {
   "cell_type": "code",
   "execution_count": null,
   "metadata": {},
   "outputs": [],
   "source": [
    "# @title launch WebUI 启动WebUI\n",
    "%cd /content/Retrieval-based-Voice-Conversion-WebUI/\n",
    "!/usr/local/bin/python  infer-web.py"
   ]
  }
 ],
 "metadata": {
  "language_info": {
   "name": "python"
  }
 },
 "nbformat": 4,
 "nbformat_minor": 2
}
