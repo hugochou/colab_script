{
 "cells": [
  {
   "cell_type": "markdown",
   "metadata": {},
   "source": [
    "<a href=\"https://colab.research.google.com/github/hugochou/colab_script/blob/main/rvc_webui.ipynb\" target=\"_parent\"><img src=\"https://colab.research.google.com/assets/colab-badge.svg\" alt=\"Open In Colab\"/></a>"
   ]
  },
  {
   "cell_type": "markdown",
   "metadata": {},
   "source": [
    "环境配置 environment"
   ]
  },
  {
   "cell_type": "code",
   "execution_count": null,
   "metadata": {},
   "outputs": [],
   "source": [
    "# @title 环境配置 environment\n",
    "!pip install -q condacolab\n",
    "# Setting up condacolab and installing packages\n",
    "import condacolab\n",
    "condacolab.install_from_url(\"https://repo.anaconda.com/miniconda/Miniconda3-py39_23.11.0-2-Linux-x86_64.sh\")\n",
    "%cd -q /content\n",
    "!git clone -b main --depth 1 https://github.com/RVC-Project/Retrieval-based-Voice-Conversion-WebUI\n",
    "!conda install -y -q -c pytorch -c nvidia cudatoolkit\n",
    "%cd -q /content/Retrieval-based-Voice-Conversion-WebUI\n",
    "!conda install -y -q -c conda-forge gcc gxx ffmpeg cmake -c pytorch -c nvidia\n",
    "!/usr/local/bin/pip install torch torchvision torchaudio\n",
    "!/usr/local/bin/pip install -r requirements.txt"
   ]
  },
  {
   "cell_type": "code",
   "execution_count": null,
   "metadata": {},
   "outputs": [],
   "source": [
    "# @title Download pretrained models 下载预训练模型\n",
    "!mkdir -p /content/GPT-SoVITS/GPT_SoVITS/pretrained_models\n",
    "!mkdir -p /content/GPT-SoVITS/tools/damo_asr/models\n",
    "!mkdir -p /content/GPT-SoVITS/tools/uvr5\n",
    "%cd /content/GPT-SoVITS/GPT_SoVITS/pretrained_models\n",
    "!git clone https://huggingface.co/lj1995/GPT-SoVITS\n",
    "%cd /content/GPT-SoVITS/tools/damo_asr/models\n",
    "!git clone https://www.modelscope.cn/damo/speech_paraformer-large_asr_nat-zh-cn-16k-common-vocab8404-pytorch.git\n",
    "!git clone https://www.modelscope.cn/damo/speech_fsmn_vad_zh-cn-16k-common-pytorch.git\n",
    "!git clone https://www.modelscope.cn/damo/punc_ct-transformer_zh-cn-common-vocab272727-pytorch.git\n",
    "# @title UVR5 pretrains 安装uvr5模型\n",
    "%cd /content/GPT-SoVITS/tools/uvr5\n",
    "%rm -r uvr5_weights\n",
    "!git clone https://huggingface.co/Delik/uvr5_weights\n",
    "!git config core.sparseCheckout true\n",
    "!mv /content/GPT-SoVITS/GPT_SoVITS/pretrained_models/GPT-SoVITS/* /content/GPT-SoVITS/GPT_SoVITS/pretrained_models/"
   ]
  },
  {
   "cell_type": "code",
   "execution_count": null,
   "metadata": {},
   "outputs": [],
   "source": [
    "# @title launch WebUI 启动WebUI\n",
    "%cd /content/Retrieval-based-Voice-Conversion-WebUI/\n",
    "!/usr/local/bin/python  infer-web.py"
   ]
  }
 ],
 "metadata": {
  "language_info": {
   "name": "python"
  }
 },
 "nbformat": 4,
 "nbformat_minor": 2
}
